{
 "cells": [
  {
   "cell_type": "markdown",
   "id": "abd65d4b",
   "metadata": {},
   "source": [
    "### Imports and load"
   ]
  },
  {
   "cell_type": "code",
   "execution_count": 1,
   "id": "e2158596",
   "metadata": {},
   "outputs": [],
   "source": [
    "import pandas as pd\n",
    "import numpy as np\n",
    "import matplotlib.pyplot as plt\n",
    "from pathlib import Path"
   ]
  },
  {
   "cell_type": "code",
   "execution_count": 2,
   "id": "410c3443",
   "metadata": {},
   "outputs": [
    {
     "data": {
      "text/html": [
       "<div>\n",
       "<style scoped>\n",
       "    .dataframe tbody tr th:only-of-type {\n",
       "        vertical-align: middle;\n",
       "    }\n",
       "\n",
       "    .dataframe tbody tr th {\n",
       "        vertical-align: top;\n",
       "    }\n",
       "\n",
       "    .dataframe thead th {\n",
       "        text-align: right;\n",
       "    }\n",
       "</style>\n",
       "<table border=\"1\" class=\"dataframe\">\n",
       "  <thead>\n",
       "    <tr style=\"text-align: right;\">\n",
       "      <th></th>\n",
       "      <th>subject_id</th>\n",
       "      <th>hadm_id</th>\n",
       "      <th>note_id</th>\n",
       "      <th>note_text</th>\n",
       "      <th>cleaned_text</th>\n",
       "      <th>n_codes</th>\n",
       "      <th>icd_codes</th>\n",
       "      <th>seq_nums</th>\n",
       "      <th>icd_codes_str</th>\n",
       "      <th>seq_nums_str</th>\n",
       "      <th>icd_versions</th>\n",
       "      <th>icd_long_titles</th>\n",
       "      <th>icd_long_titles_str</th>\n",
       "    </tr>\n",
       "  </thead>\n",
       "  <tbody>\n",
       "    <tr>\n",
       "      <th>0</th>\n",
       "      <td>16925328</td>\n",
       "      <td>20000024</td>\n",
       "      <td>16925328-DS-6</td>\n",
       "      <td>\\nName:  ___              Unit No:   ___\\n \\n...</td>\n",
       "      <td>[DISCHARGE_DIAGNOSIS]\\nLaxative-induced diarrh...</td>\n",
       "      <td>1</td>\n",
       "      <td>['D500']</td>\n",
       "      <td>[1]</td>\n",
       "      <td>D500</td>\n",
       "      <td>1</td>\n",
       "      <td>[10]</td>\n",
       "      <td>['Iron deficiency anemia secondary to blood lo...</td>\n",
       "      <td>Iron deficiency anemia secondary to blood loss...</td>\n",
       "    </tr>\n",
       "    <tr>\n",
       "      <th>1</th>\n",
       "      <td>19430048</td>\n",
       "      <td>20000034</td>\n",
       "      <td>19430048-DS-12</td>\n",
       "      <td>\\nName:  ___                    Unit No:   __...</td>\n",
       "      <td>[DISCHARGE_DIAGNOSIS]\\nPost-ERCP pain\\n\\n[HOSP...</td>\n",
       "      <td>1</td>\n",
       "      <td>['K831']</td>\n",
       "      <td>[1]</td>\n",
       "      <td>K831</td>\n",
       "      <td>1</td>\n",
       "      <td>[10]</td>\n",
       "      <td>['Obstruction of bile duct']</td>\n",
       "      <td>Obstruction of bile duct</td>\n",
       "    </tr>\n",
       "    <tr>\n",
       "      <th>2</th>\n",
       "      <td>14046553</td>\n",
       "      <td>20000094</td>\n",
       "      <td>14046553-DS-11</td>\n",
       "      <td>\\nName:  ___                     Unit No:   _...</td>\n",
       "      <td>[DISCHARGE_DIAGNOSIS]\\nPATIENT DIED\\n\\n[CHIEF_...</td>\n",
       "      <td>1</td>\n",
       "      <td>['I509']</td>\n",
       "      <td>[1]</td>\n",
       "      <td>I509</td>\n",
       "      <td>1</td>\n",
       "      <td>[10]</td>\n",
       "      <td>['Heart failure, unspecified']</td>\n",
       "      <td>Heart failure, unspecified</td>\n",
       "    </tr>\n",
       "    <tr>\n",
       "      <th>3</th>\n",
       "      <td>14990224</td>\n",
       "      <td>20000147</td>\n",
       "      <td>14990224-DS-7</td>\n",
       "      <td>\\nName:  ___                    Unit No:   __...</td>\n",
       "      <td>[CHIEF_COMPLAINT]\\nchest pain\\n\\n[HISTORY_OF_P...</td>\n",
       "      <td>1</td>\n",
       "      <td>['I213']</td>\n",
       "      <td>[1]</td>\n",
       "      <td>I213</td>\n",
       "      <td>1</td>\n",
       "      <td>[10]</td>\n",
       "      <td>['ST elevation (STEMI) myocardial infarction o...</td>\n",
       "      <td>ST elevation (STEMI) myocardial infarction of ...</td>\n",
       "    </tr>\n",
       "    <tr>\n",
       "      <th>4</th>\n",
       "      <td>13758099</td>\n",
       "      <td>20000239</td>\n",
       "      <td>13758099-DS-5</td>\n",
       "      <td>\\nName:  ___             Unit No:   ___\\n \\nA...</td>\n",
       "      <td>[DISCHARGE_DIAGNOSIS]\\nPRIMARY DIAGNOSIS\\nChes...</td>\n",
       "      <td>1</td>\n",
       "      <td>['I120']</td>\n",
       "      <td>[1]</td>\n",
       "      <td>I120</td>\n",
       "      <td>1</td>\n",
       "      <td>[10]</td>\n",
       "      <td>['Hypertensive chronic kidney disease with sta...</td>\n",
       "      <td>Hypertensive chronic kidney disease with stage...</td>\n",
       "    </tr>\n",
       "  </tbody>\n",
       "</table>\n",
       "</div>"
      ],
      "text/plain": [
       "   subject_id   hadm_id         note_id  \\\n",
       "0    16925328  20000024   16925328-DS-6   \n",
       "1    19430048  20000034  19430048-DS-12   \n",
       "2    14046553  20000094  14046553-DS-11   \n",
       "3    14990224  20000147   14990224-DS-7   \n",
       "4    13758099  20000239   13758099-DS-5   \n",
       "\n",
       "                                           note_text  \\\n",
       "0   \\nName:  ___              Unit No:   ___\\n \\n...   \n",
       "1   \\nName:  ___                    Unit No:   __...   \n",
       "2   \\nName:  ___                     Unit No:   _...   \n",
       "3   \\nName:  ___                    Unit No:   __...   \n",
       "4   \\nName:  ___             Unit No:   ___\\n \\nA...   \n",
       "\n",
       "                                        cleaned_text  n_codes icd_codes  \\\n",
       "0  [DISCHARGE_DIAGNOSIS]\\nLaxative-induced diarrh...        1  ['D500']   \n",
       "1  [DISCHARGE_DIAGNOSIS]\\nPost-ERCP pain\\n\\n[HOSP...        1  ['K831']   \n",
       "2  [DISCHARGE_DIAGNOSIS]\\nPATIENT DIED\\n\\n[CHIEF_...        1  ['I509']   \n",
       "3  [CHIEF_COMPLAINT]\\nchest pain\\n\\n[HISTORY_OF_P...        1  ['I213']   \n",
       "4  [DISCHARGE_DIAGNOSIS]\\nPRIMARY DIAGNOSIS\\nChes...        1  ['I120']   \n",
       "\n",
       "  seq_nums icd_codes_str  seq_nums_str icd_versions  \\\n",
       "0      [1]          D500             1         [10]   \n",
       "1      [1]          K831             1         [10]   \n",
       "2      [1]          I509             1         [10]   \n",
       "3      [1]          I213             1         [10]   \n",
       "4      [1]          I120             1         [10]   \n",
       "\n",
       "                                     icd_long_titles  \\\n",
       "0  ['Iron deficiency anemia secondary to blood lo...   \n",
       "1                       ['Obstruction of bile duct']   \n",
       "2                     ['Heart failure, unspecified']   \n",
       "3  ['ST elevation (STEMI) myocardial infarction o...   \n",
       "4  ['Hypertensive chronic kidney disease with sta...   \n",
       "\n",
       "                                 icd_long_titles_str  \n",
       "0  Iron deficiency anemia secondary to blood loss...  \n",
       "1                           Obstruction of bile duct  \n",
       "2                         Heart failure, unspecified  \n",
       "3  ST elevation (STEMI) myocardial infarction of ...  \n",
       "4  Hypertensive chronic kidney disease with stage...  "
      ]
     },
     "execution_count": 2,
     "metadata": {},
     "output_type": "execute_result"
    }
   ],
   "source": [
    "plt.rcParams[\"figure.figsize\"] = (9, 5)\n",
    "\n",
    "DATA = Path(\"../mimic_data/csv/merged_icd_notes_focused.csv.gz\")\n",
    "df = pd.read_csv(DATA)\n",
    "df.head()"
   ]
  },
  {
   "cell_type": "markdown",
   "id": "46ba4143",
   "metadata": {},
   "source": [
    "### Note Length Distribution"
   ]
  },
  {
   "cell_type": "code",
   "execution_count": 3,
   "id": "4544e019",
   "metadata": {},
   "outputs": [
    {
     "data": {
      "image/png": "[encoded data removed]",
      "text/plain": [
       "<Figure size 900x500 with 1 Axes>"
      ]
     },
     "metadata": {},
     "output_type": "display_data"
    }
   ],
   "source": [
    "df[\"note_len_chars\"] = df[\"cleaned_text\"].astype(str).str.len()\n",
    "\n",
    "ax = df[\"note_len_chars\"].hist(bins=50)\n",
    "ax.set_title(\"Note length distribution (chars)\")\n",
    "ax.set_xlabel(\"Number of chars\"); ax.set_ylabel(\"Count\")\n",
    "plt.show()"
   ]
  },
  {
   "cell_type": "markdown",
   "id": "e9b2c747",
   "metadata": {},
   "source": [
    "### Chapter Distribution"
   ]
  },
  {
   "cell_type": "code",
   "execution_count": 5,
   "id": "5db4abe9",
   "metadata": {},
   "outputs": [
    {
     "name": "stdout",
     "output_type": "stream",
     "text": [
      "Loaded 122,288 notes\n",
      "\n",
      "📊 ICD-10 Chapter Distribution:\n",
      "----------------------------------------------------\n",
      "I    Circulatory System        :  24292 (19.86%)\n",
      "K    Digestive System          :  17401 (14.23%)\n",
      "S–T  Injury & Poisoning        :  14697 (12.02%)\n",
      "C–D  Neoplasms & Blood         :  11299 ( 9.24%)\n",
      "L–M  Skin & Musculoskeletal    :   8698 ( 7.11%)\n",
      "A–B  Infectious & Parasitic    :   7394 ( 6.05%)\n",
      "J    Respiratory System        :   7273 ( 5.95%)\n",
      "N    Genitourinary             :   6050 ( 4.95%)\n",
      "R    Symptoms & Abn. Findings  :   6007 ( 4.91%)\n",
      "E    Endocrine & Metabolic     :   5015 ( 4.10%)\n",
      "G    Nervous System            :   4382 ( 3.58%)\n",
      "F    Mental & Behavioral       :   3632 ( 2.97%)\n",
      "Z    Factors Influen. Health   :   3198 ( 2.62%)\n",
      "O    Pregnancy & Childbirth    :   1892 ( 1.55%)\n",
      "Q    Congenital & Chromosomal  :    538 ( 0.44%)\n",
      "H    Eye & Ear                 :    518 ( 0.42%)\n",
      "P    Perinatal Conditions      :      1 ( 0.00%)\n",
      "V–Y  External Causes           :      1 ( 0.00%)\n",
      "----------------------------------------------------\n",
      "Total notes: 122,288\n",
      "\n"
     ]
    },
    {
     "name": "stderr",
     "output_type": "stream",
     "text": [
      "C:\\Users\\1999j\\AppData\\Local\\Temp\\ipykernel_4632\\1876760441.py:72: FutureWarning: \n",
      "\n",
      "Passing `palette` without assigning `hue` is deprecated and will be removed in v0.14.0. Assign the `y` variable to `hue` and set `legend=False` for the same effect.\n",
      "\n",
      "  sns.barplot(y=chapter_df.index, x=chapter_df[\"percent\"], palette=\"viridis\")\n"
     ]
    },
    {
     "data": {
      "image/png": "[encoded data removed]",
      "text/plain": [
       "<Figure size 1000x500 with 1 Axes>"
      ]
     },
     "metadata": {},
     "output_type": "display_data"
    }
   ],
   "source": [
    "\n",
    "from collections import Counter\n",
    "import seaborn as sns\n",
    "\n",
    "# === Load data ===\n",
    "DATA = Path(\"../mimic_data/csv/merged_icd_notes.csv.gz\")\n",
    "df = pd.read_csv(DATA)\n",
    "print(f\"Loaded {len(df):,} notes\")\n",
    "\n",
    "# === ICD → Chapter Mapping ===\n",
    "def icd_to_chapter(icd_code: str) -> str:\n",
    "    if not isinstance(icd_code, str) or len(icd_code) == 0:\n",
    "        return \"Unknown\"\n",
    "    letter = icd_code.strip()[0].upper()\n",
    "\n",
    "    if letter in \"AB\": return \"A–B  Infectious & Parasitic\"\n",
    "    if letter in \"CD\": return \"C–D  Neoplasms & Blood\"\n",
    "    if letter == \"E\":  return \"E    Endocrine & Metabolic\"\n",
    "    if letter == \"F\":  return \"F    Mental & Behavioral\"\n",
    "    if letter == \"G\":  return \"G    Nervous System\"\n",
    "    if letter == \"H\":  return \"H    Eye & Ear\"\n",
    "    if letter == \"I\":  return \"I    Circulatory System\"\n",
    "    if letter == \"J\":  return \"J    Respiratory System\"\n",
    "    if letter == \"K\":  return \"K    Digestive System\"\n",
    "    if letter in \"LM\": return \"L–M  Skin & Musculoskeletal\"\n",
    "    if letter == \"N\":  return \"N    Genitourinary\"\n",
    "    if letter == \"O\":  return \"O    Pregnancy & Childbirth\"\n",
    "    if letter == \"P\":  return \"P    Perinatal Conditions\"\n",
    "    if letter == \"Q\":  return \"Q    Congenital & Chromosomal\"\n",
    "    if letter == \"R\":  return \"R    Symptoms & Abn. Findings\"\n",
    "    if letter in \"ST\": return \"S–T  Injury & Poisoning\"\n",
    "    if letter in \"VWXY\": return \"V–Y  External Causes\"\n",
    "    if letter == \"Z\":  return \"Z    Factors Influen. Health\"\n",
    "    if letter == \"U\":  return \"U    Special Purposes\"\n",
    "    return \"Other\"\n",
    "\n",
    "# === Extract ICD Code (string inside list-like text) ===\n",
    "def extract_first_code(val):\n",
    "    \"\"\"Handles strings like \"['D500']\" → 'D500'\"\"\"\n",
    "    if isinstance(val, str):\n",
    "        val = val.strip()\n",
    "        if val.startswith(\"[\") and val.endswith(\"]\"):\n",
    "            val = val[1:-1]\n",
    "        val = val.replace(\"'\", \"\").replace('\"', '').strip()\n",
    "        if \",\" in val:  # multiple codes in string — take first\n",
    "            val = val.split(\",\")[0].strip()\n",
    "        return val\n",
    "    return None\n",
    "\n",
    "# Apply extraction + mapping\n",
    "df[\"icd_code_clean\"] = df[\"icd_codes\"].apply(extract_first_code)\n",
    "df[\"chapter\"] = df[\"icd_code_clean\"].apply(icd_to_chapter)\n",
    "\n",
    "# === Count & Percentage ===\n",
    "chapter_counts = Counter(df[\"chapter\"])\n",
    "total = sum(chapter_counts.values())\n",
    "\n",
    "print(\"\\n📊 ICD-10 Chapter Distribution:\")\n",
    "print(\"----------------------------------------------------\")\n",
    "for chap, count in sorted(chapter_counts.items(), key=lambda x: -x[1]):\n",
    "    pct = 100 * count / total\n",
    "    print(f\"{chap:<30} : {count:>6} ({pct:5.2f}%)\")\n",
    "print(\"----------------------------------------------------\")\n",
    "print(f\"Total notes: {total:,}\\n\")\n",
    "\n",
    "# === Plot ===\n",
    "plt.figure(figsize=(10,5))\n",
    "chapter_df = (\n",
    "    pd.DataFrame.from_dict(chapter_counts, orient=\"index\", columns=[\"count\"])\n",
    "    .assign(percent=lambda d: 100 * d[\"count\"] / d[\"count\"].sum())\n",
    "    .sort_values(\"count\", ascending=False)\n",
    ")\n",
    "sns.barplot(y=chapter_df.index, x=chapter_df[\"percent\"], palette=\"viridis\")\n",
    "plt.title(\"ICD-10 Chapter Distribution\")\n",
    "plt.xlabel(\"Percentage of Notes\")\n",
    "plt.ylabel(\"ICD Chapter\")\n",
    "plt.tight_layout()\n",
    "plt.show()\n"
   ]
  },
  {
   "cell_type": "markdown",
   "id": "eccc6713",
   "metadata": {},
   "source": [
    "### Basic Info"
   ]
  },
  {
   "cell_type": "code",
   "execution_count": 6,
   "id": "f87298f1",
   "metadata": {},
   "outputs": [
    {
     "name": "stdout",
     "output_type": "stream",
     "text": [
      "Rows: 122288\n",
      "subject_id              int64\n",
      "hadm_id                 int64\n",
      "note_id                object\n",
      "note_text              object\n",
      "cleaned_text           object\n",
      "n_codes                 int64\n",
      "icd_codes              object\n",
      "seq_nums               object\n",
      "icd_codes_str          object\n",
      "seq_nums_str            int64\n",
      "icd_versions           object\n",
      "icd_long_titles        object\n",
      "icd_long_titles_str    object\n",
      "icd_code_clean         object\n",
      "chapter                object\n",
      "dtype: object\n"
     ]
    },
    {
     "data": {
      "text/plain": [
       "cleaned_text           0.000131\n",
       "hadm_id                0.000000\n",
       "subject_id             0.000000\n",
       "note_id                0.000000\n",
       "note_text              0.000000\n",
       "n_codes                0.000000\n",
       "icd_codes              0.000000\n",
       "seq_nums               0.000000\n",
       "icd_codes_str          0.000000\n",
       "seq_nums_str           0.000000\n",
       "icd_versions           0.000000\n",
       "icd_long_titles        0.000000\n",
       "icd_long_titles_str    0.000000\n",
       "icd_code_clean         0.000000\n",
       "chapter                0.000000\n",
       "dtype: float64"
      ]
     },
     "execution_count": 6,
     "metadata": {},
     "output_type": "execute_result"
    }
   ],
   "source": [
    "print(\"Rows:\", len(df))\n",
    "print(df.dtypes)\n",
    "df.isna().mean().sort_values(ascending=False).head(20)"
   ]
  },
  {
   "cell_type": "markdown",
   "id": "09235c33",
   "metadata": {},
   "source": [
    "### Cleaned Text"
   ]
  },
  {
   "cell_type": "code",
   "execution_count": 8,
   "id": "6c4c1c98",
   "metadata": {},
   "outputs": [
    {
     "name": "stdout",
     "output_type": "stream",
     "text": [
      "[DISCHARGE_DIAGNOSIS]\n",
      "Laxative-induced diarrhea\n",
      "Chronic anemia\n",
      "\n",
      "[CHIEF_COMPLAINT]\n",
      "weakness, diarrhea\n",
      "\n",
      "[HISTORY_OF_PRESENT_ILLNESS]\n",
      "Ms. [REDACTED] is a [REDACTED] year-old woman with PMH significant for\n",
      "chronic anemia, osteoporosis, hypertension, ataxia, and recent\n",
      "L5 fracture in the setting of recurrent falls who presents from\n",
      "home with fatigue and generalized weakness and diarrhea.\n",
      " The patient's recent history is notable for the follow:\n",
      " - On [REDACTED], she presented with 4 days of LBP s/p fall from\n",
      "standing at which time imaging revealed acute L5 fracture. She\n",
      "was evaluated by Spine team who recommended early mobilization,\n",
      "pain control, but no brace required. She was evaluated by [REDACTED],\n",
      "and discharged to [REDACTED].\n",
      " - She was discharged home with [REDACTED] on [REDACTED].\n",
      " - On [REDACTED], she again presented to [REDACTED] s/p fall from\n",
      "standing while trying to reach for a glass of water. She did\n",
      "have a occipital scalp hematoma, but imaging including [REDACTED],\n",
      "C-spine CT, and L hip X-ray were negative for acute process so\n",
      "patient was discharged home.\n",
      " She now represents with generalized fatigue and diarrhea. In\n",
      "the setting of opiates for her L5 fracture, the patient has had\n",
      "constipation (5 days with no BM) for which she took a \"natural\n",
      "laxative\" the evening prior to presentation. The patient had 2\n",
      "bowel movements in the morning of presentation and one episode\n",
      "of incontinence with diarrhea while sleeping. In this setting,\n",
      "she felt very weak and called EMS and was brought to [REDACTED] ED.\n",
      " In [REDACTED] ED:\n",
      " - Initial VS 98.7 72 130/46 16 99% RA\n",
      " - Labs notable for Chem-7 with BUN/Cr 36/1.1 otherwise wnl, CBC\n",
      "with H/H 7.8/25.4 (baseline Hct 31), iron studies with iron 49\n",
      "ferritin 249, hemolysis labs with LDH 163 Tbili 0.2 hapto 170.\n",
      "UA negative.\n",
      " - CXR without acute intrathoracic process. CT A/P without acute\n",
      "process.\n",
      " - The patient was administered\n",
      " [REDACTED] 21:25 PO/NG OxyCODONE (Immediate Release) 2.5 mg\n",
      " [REDACTED] 21:25 PO/NG Gabapentin 100 mg\n",
      " [REDACTED] 21:25 PO/NG Thiamine 100 mg\n",
      " [REDACTED] 21:25 PO/NG FoLIC Acid 1 mg\n",
      " 1u pRBC transfusion started\n",
      " - VS prior to transfer 98.5 60 150/56 18 100% RA\n",
      " Upon arrival to the floor, VS 149/59 57 18 100%RA. The patient\n",
      "is well-appearing and states that she already feels significant\n",
      "better than when she first presented.\n",
      "\n",
      "[PAST_MEDICAL_HISTORY]\n",
      "allergic rhinitis\n",
      " anemia\n",
      "irritable bowel syndrome\n",
      "osteoarthritis\n",
      "TMJ dysfunction\n",
      "osteoporosis\n",
      "HTN\n",
      "Bilateral Macular degeneration\n",
      "Glaucoma\n",
      "Cataract surgery\n",
      "left shoulder hemiarthroplasty\n",
      "bilateralsalpino-oophorectomy for benign ovarian mass ([REDACTED])\n",
      "umbilical hernia repair\n",
      "\n",
      "[HOSPITAL_COURSE]\n",
      "[REDACTED] chronic anemia, osteoporosis, hypertension, ataxia, and\n",
      "recent L5 fracture in the setting of recurrent falls who\n",
      "presented from home with fatigue and generalized weakness and\n",
      "diarrhea found to have acute-on-chronic anemia.\n",
      "\n",
      " # Anemia: Patient with chronic anemia dating back to [REDACTED] with\n",
      "baseline Hct [REDACTED]. Patient was transfused 1U pRBCs and Hct\n",
      "increased more than expected, which suggested that the prior Hct\n",
      "was a spurious result. Iron studies, vitamin B12, folate, and\n",
      "hemolysis labs were all wnl. TSH and LFTs wnl. Pt did not have\n",
      "any signs of active bleeding.\n",
      "\n",
      " # Diarrhea: Patient with baseline constipation in the setting\n",
      "of opiate use, 1 episode of incontinence of diarrhea after\n",
      "laxative use. Patient had normal rectal exam with good rectal\n",
      "tone, no saddle anesthesia. Most likely due to laxatives.\n",
      "Patient was transitioned to Acetaminophen for pain control and\n",
      "stool softeners were used as needed.\n",
      "\n",
      " # Recurrent falls/multiple recent admissions: Patient with\n",
      "baseline ataxia, multiple recent falls resulting in L5 endplate\n",
      "fracture and sacral fracture. Physical therapy evaluated her and\n",
      "recommended home physical therapy with 24 hour supervision. The\n",
      "patient said that she has a friend who will provide 24 hour\n",
      "supervision.\n",
      "\n",
      "TRANSITIONAL ISSUES:\n",
      "- Patient should have follow up CBC in 1 week to trend Hgb/Hct.\n",
      "- Patient should take Tylenol for pain and avoid oxycodone\n",
      "unless having severe pain.\n",
      "- Patient was discharged with Colace and Miralax as needed for\n",
      "constipation if still using oxycodone.\n",
      "- Patient needs 24 hour supervision and home physical therapy.\n",
      "Patient stated that she had a friend who would provide 24 hour\n",
      "supervision.\n"
     ]
    }
   ],
   "source": [
    "print(df[\"cleaned_text\"][0])"
   ]
  },
  {
   "cell_type": "markdown",
   "id": "ed116beb",
   "metadata": {},
   "source": [
    "### Explore ICD Codes & Frequency"
   ]
  },
  {
   "cell_type": "code",
   "execution_count": 9,
   "id": "9e8eb1ac",
   "metadata": {},
   "outputs": [
    {
     "data": {
      "text/plain": [
       "icd_codes_str\n",
       "A419       3068\n",
       "Z5111      2163\n",
       "I214       1988\n",
       "I130       1736\n",
       "N179       1596\n",
       "J189       1428\n",
       "N390       1268\n",
       "I110       1169\n",
       "I2510       884\n",
       "I25110      830\n",
       "I350        824\n",
       "T814XXA     792\n",
       "J441        754\n",
       "I2699       747\n",
       "I671        683\n",
       "R0789       602\n",
       "R55         601\n",
       "A4151       585\n",
       "I5033       562\n",
       "I5023       548\n",
       "Name: count, dtype: int64"
      ]
     },
     "execution_count": 9,
     "metadata": {},
     "output_type": "execute_result"
    }
   ],
   "source": [
    "codes_series = df[\"icd_codes_str\"].dropna().astype(str).str.split(\",\")\n",
    "codes_exploded = codes_series.explode().str.strip()\n",
    "code_counts = codes_exploded.value_counts()\n",
    "code_counts.head(20)"
   ]
  },
  {
   "cell_type": "markdown",
   "id": "51ba9300",
   "metadata": {},
   "source": [
    "### Coverage@K\n",
    "\n",
    "How many notes cover TOP 25, 50, 100... most frequent ICD codes?"
   ]
  },
  {
   "cell_type": "code",
   "execution_count": 10,
   "id": "b277f07a",
   "metadata": {},
   "outputs": [
    {
     "data": {
      "text/plain": [
       "{10: np.float64(0.13190174015438963),\n",
       " 25: np.float64(0.20531041475860265),\n",
       " 50: np.float64(0.27946323433206854),\n",
       " 100: np.float64(0.3808223210781107),\n",
       " 200: np.float64(0.5093958524139736),\n",
       " 500: np.float64(0.6838446944916917)}"
      ]
     },
     "execution_count": 10,
     "metadata": {},
     "output_type": "execute_result"
    }
   ],
   "source": [
    "def coverage_at_k(counts, k):\n",
    "    counts = counts.values\n",
    "    total = counts.sum()\n",
    "    topk = counts[:k].sum()\n",
    "    return topk / total if total > 0 else 0.0\n",
    "\n",
    "coverage = {k: coverage_at_k(code_counts, k) for k in [10, 25, 50, 100, 200, 500]}\n",
    "coverage\n"
   ]
  },
  {
   "cell_type": "markdown",
   "id": "7f8b4f72",
   "metadata": {},
   "source": [
    "### Top 50 Codes"
   ]
  },
  {
   "cell_type": "code",
   "execution_count": 10,
   "id": "98c0d53a",
   "metadata": {},
   "outputs": [
    {
     "data": {
      "image/png": "[encoded data removed]",
      "text/plain": [
       "<Figure size 900x500 with 1 Axes>"
      ]
     },
     "metadata": {},
     "output_type": "display_data"
    },
    {
     "name": "stdout",
     "output_type": "stream",
     "text": [
      "icd_codes_str\n",
      "N179      5748\n",
      "J189      3669\n",
      "A419      3588\n",
      "I10       3476\n",
      "I5033     2837\n",
      "          ... \n",
      "G8250       87\n",
      "I6203       87\n",
      "J95821      87\n",
      "I9589       87\n",
      "F10231      87\n",
      "Name: count, Length: 500, dtype: int64\n"
     ]
    }
   ],
   "source": [
    "topk = 500\n",
    "top_counts = code_counts.head(topk)\n",
    "ax = top_counts.plot(kind=\"bar\")\n",
    "ax.set_title(f\"Top {topk} most frequent ICD codes\")\n",
    "ax.set_xlabel(\"ICD code (most to least frequent)\"); ax.set_ylabel(\"freq\")\n",
    "# Remove x-axis labels and ticks\n",
    "ax.set_xticks([])\n",
    "\n",
    "plt.tight_layout()\n",
    "plt.show()\n",
    "print(top_counts)"
   ]
  },
  {
   "cell_type": "markdown",
   "id": "504755da",
   "metadata": {},
   "source": [
    "### How many codes to cover X% of data?"
   ]
  },
  {
   "cell_type": "code",
   "execution_count": 29,
   "id": "4b8eeea6",
   "metadata": {},
   "outputs": [
    {
     "name": "stdout",
     "output_type": "stream",
     "text": [
      "Codes needed to cover 50%: 122\n",
      "Codes needed to cover 60%: 213\n",
      "Codes needed to cover 70%: 375\n",
      "Codes needed to cover 75%: 501\n",
      "Codes needed to cover 80%: 688\n",
      "Codes needed to cover 90%: 1545\n",
      "Codes needed to cover 95%: 2836\n"
     ]
    }
   ],
   "source": [
    "cum = code_counts.cumsum() / code_counts.sum()\n",
    "\n",
    "def codes_to_cover(p):\n",
    "    return int((cum <= p).sum())\n",
    "\n",
    "for p in [0.5, 0.6, 0.7, 0.75, 0.8, 0.9, 0.95]:\n",
    "    print(f\"Codes needed to cover {int(p*100)}%:\", codes_to_cover(p))\n"
   ]
  }
 ],
 "metadata": {
  "kernelspec": {
   "display_name": "icd-coding-mistral",
   "language": "python",
   "name": "python3"
  },
  "language_info": {
   "codemirror_mode": {
    "name": "ipython",
    "version": 3
   },
   "file_extension": ".py",
   "mimetype": "text/x-python",
   "name": "python",
   "nbconvert_exporter": "python",
   "pygments_lexer": "ipython3",
   "version": "3.12.12"
  }
 },
 "nbformat": 4,
 "nbformat_minor": 5
}
